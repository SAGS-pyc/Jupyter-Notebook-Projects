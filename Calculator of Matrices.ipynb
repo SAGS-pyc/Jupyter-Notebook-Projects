{
 "cells": [
  {
   "cell_type": "markdown",
   "id": "5df9c3d9-6c8f-4a7e-8a31-0410720bf7c3",
   "metadata": {},
   "source": [
    "# Calculator of Matrices | Calculadora de Matrices"
   ]
  },
  {
   "cell_type": "markdown",
   "id": "0b861f5d-a138-4f18-81a6-f51b2c9f12ea",
   "metadata": {},
   "source": [
    "## Objective | Objetivo"
   ]
  },
  {
   "cell_type": "markdown",
   "id": "4493da94-ecc5-4834-b35c-99d4b8dbe610",
   "metadata": {},
   "source": [
    "##### Realizar una calculadora de matrices para sistemas de ecuaciones de hasta 10 dimensiones, con varios metodos de solucion de matrices. \n",
    "\n",
    "*Note: Cada \"Metodo\" tiene sus limites y eficiencias por lo que el ultimo sera el mejor de todos.*"
   ]
  },
  {
   "cell_type": "markdown",
   "id": "62e68abc-c9d5-42cd-baf5-58aa8747aa53",
   "metadata": {},
   "source": [
    "Fuentes: Algebra Linear Stanley I. Grossman "
   ]
  },
  {
   "cell_type": "markdown",
   "id": "2979d5cf-3e20-498a-8ec3-8346cb3afb97",
   "metadata": {},
   "source": [
    "#### Introducción de las ecuaciones"
   ]
  },
  {
   "cell_type": "code",
   "execution_count": 39,
   "id": "916dd4c0-ab13-4519-984e-92ad8e588e85",
   "metadata": {},
   "outputs": [
    {
     "data": {
      "text/plain": [
       "'Ingresar las ecuaciones como numeros separados por espacios (se espera mejorar la entrada) se entiende que el ultimo numero es lo que va\\ndespues del igual, matriz mxn cuadradas o no\\nEs importante marcar que para esta calculadora la forma de las ecuaciones es x, y, z -- forma:  x + y + z = r  , en lista [x, y, z, r] , en matriz\\naumentada:\\n[x1, y1, z1, r1]      al principio solo probemos matrices cuadradas hasta la 3ra dimensión.\\n[x2, y2, z2, r2]\\n[x3, y3, z3, r3]\\n\\nTener en cuenta la notacion matricial y posicion de los elmentos:\\nLas columnas filas son i las columnas j\\nAsub(i,j); ej: A11, Elemento en la fila 1 y la columna 1\\n             j \\n   [a11, a12, a13, a14]      \\n i [a21, a22, a23, a24]\\n   [a31, a32, a33, a34]...\\n         .\\n         .\\n         .'"
      ]
     },
     "execution_count": 39,
     "metadata": {},
     "output_type": "execute_result"
    }
   ],
   "source": [
    "\n",
    "'''Ingresar las ecuaciones como numeros separados por espacios (se espera mejorar la entrada) se entiende que el ultimo numero es lo que va\n",
    "despues del igual, matriz mxn cuadradas o no\n",
    "Es importante marcar que para esta calculadora la forma de las ecuaciones es x, y, z -- forma:  x + y + z = r  , en lista [x, y, z, r] , en matriz\n",
    "aumentada:\n",
    "[x1, y1, z1, r1]      al principio solo probemos matrices cuadradas hasta la 3ra dimensión.\n",
    "[x2, y2, z2, r2]\n",
    "[x3, y3, z3, r3]\n",
    "\n",
    "Tener en cuenta la notacion matricial y posicion de los elmentos:\n",
    "Las columnas filas son i las columnas j\n",
    "Asub(i,j); ej: A11, Elemento en la fila 1 y la columna 1\n",
    "             j \n",
    "   [a11, a12, a13, a14]      \n",
    " i [a21, a22, a23, a24]\n",
    "   [a31, a32, a33, a34]...\n",
    "         .\n",
    "         .\n",
    "         .'''\n",
    "# En dada caso que el coeficiente sea una fraccion coloca el valor en decimales. "
   ]
  },
  {
   "cell_type": "markdown",
   "id": "3635d9b1-36e6-420a-87b5-f7103efba0ce",
   "metadata": {},
   "source": [
    "### Code / Codigo\n",
    "\n",
    "##### Instrucciones de uso y exepciones\n"
   ]
  },
  {
   "cell_type": "code",
   "execution_count": 3,
   "id": "9d27612d-c16d-4561-af41-851c4328a890",
   "metadata": {},
   "outputs": [
    {
     "name": "stdout",
     "output_type": "stream",
     "text": [
      "-----------------------------------------------------\n",
      "############## CALCULADORA DE MATRICES ##############\n",
      "-----------------------------------------------------\n",
      "\n",
      "MENU\n",
      "Opción 1: Suma de Matrices\n",
      "Opción 2: Resta de Matrices\n",
      "Opción 3: Multiplicación de una matriz por un escalar\n",
      "Opción 4: Multiplicación de Matrices\n"
     ]
    },
    {
     "name": "stdin",
     "output_type": "stream",
     "text": [
      "Ingrese el numero de la opción que desea ejecutar: 3\n",
      "Ingrese el escalar: 2\n"
     ]
    },
    {
     "name": "stdout",
     "output_type": "stream",
     "text": [
      "Dimensiones de la matriz 1:\n"
     ]
    },
    {
     "name": "stdin",
     "output_type": "stream",
     "text": [
      "Ingresa el número de filas y columnas separadas por un espacio:  2 2\n"
     ]
    },
    {
     "name": "stdout",
     "output_type": "stream",
     "text": [
      "Número de filas: 2. Número de columnas: 2\n"
     ]
    },
    {
     "name": "stdin",
     "output_type": "stream",
     "text": [
      "Ingrese los 2 coeficientes de la fila 1, separados por un espacio: 1/2 3/4\n",
      "Ingrese los 2 coeficientes de la fila 2, separados por un espacio: 2 5\n"
     ]
    },
    {
     "name": "stdout",
     "output_type": "stream",
     "text": [
      "1.0 1.5\n",
      "4.0 10.0\n",
      "\n",
      "El producto entre el escalar 2.0 y la matriz\n",
      " [[Fraction(1, 2) Fraction(3, 4)]\n",
      " [Fraction(2, 1) Fraction(5, 1)]] es:\n",
      " None\n"
     ]
    }
   ],
   "source": [
    "import numpy as np\n",
    "from fractions import Fraction\n",
    "class Real_Numbers: # Calculadura para el conjunto R**n o R**nxm\n",
    "    def Create_matrices(self, n_matrix):\n",
    "        matrices = []\n",
    "        # Cuantas matrices desea crear\n",
    "        for _ in range(n_matrix):\n",
    "            # m son filas y n son columnas \n",
    "            while True:\n",
    "                try:\n",
    "                    print(f\"Dimensiones de la matriz {_+1}:\")\n",
    "                    global m, n\n",
    "                    m, n = map(int, input(\"Ingresa el número de filas y columnas separadas por un espacio: \").split())\n",
    "                    if m <= 0 or n <= 0 :\n",
    "                        raise ValueError(\"Error: Estas creando una matriz vacia, ingresa valores mayores que 0\")\n",
    "                    break\n",
    "                except ValueError as ve:\n",
    "                    print(ve)\n",
    "                except Exception as e:\n",
    "                    print(f\"Error Inesperado: {e}\")\n",
    "            print(f\"Número de filas: {m}. Número de columnas: {n}\")\n",
    "            \n",
    "            while True:\n",
    "                try:\n",
    "                    line = []      # Creacion de las matrices\n",
    "                    for i in range(m):\n",
    "                        equa = [Fraction(x) for x in input(f\"Ingrese los {n} coeficientes de la fila {i+1}, separados por un espacio:\").split()]\n",
    "                        if len(equa) != n:\n",
    "                            raise ValueError(f\"Error: Debes ingresar exactamente {n} coeficientes.\")\n",
    "                        line.append(equa)\n",
    "                    system = np.array(line, dtype=object)\n",
    "                    break\n",
    "                except ValueError as ve:\n",
    "                    print(ve)\n",
    "                except Exception as e:\n",
    "                    print(f\"Error Inesperado: {e}\")\n",
    "            matrices.append(system)\n",
    "        return matrices\n",
    "        \n",
    "    # Suma de matrices\n",
    "    def addition_matrices(self):\n",
    "        while True:\n",
    "            try:\n",
    "                num_matrices = int(input(\"Cuantas matrices desea sumar:\"))\n",
    "                matrices = self.Create_matrices(num_matrices) # Captura las matrices que crea la funcion Create_matrices\n",
    "                for i, matrix in enumerate(matrices): # Imprime las matrices \n",
    "                    print(f\"Matriz {i+1}:\") \n",
    "                    self.print_matrix(matrix)\n",
    "    \n",
    "                if all(matrix.shape == matrices[0].shape for matrix in matrices):  # Para saber si las matrices son de la misma dimensión\n",
    "                    result = sum(matrices)\n",
    "                    print(\"La suma de las matrices es:\\n\", result)\n",
    "                else:\n",
    "                    print(\"Error: Todas las matrices deben ser de la misma dimension para sumarlas\" )\n",
    "                break\n",
    "            except ValueError as ve:\n",
    "                print(ve)\n",
    "            except Exception as e:\n",
    "                print(f\"Error Inesperado: {e}\")\n",
    "    # resta de matrices\n",
    "    def substraction_matrices(self):\n",
    "        while True:\n",
    "            try:\n",
    "                num_matrices = int(input(\"Cuantas matrices desea restar:\"))\n",
    "                matrices = self.Create_matrices(num_matrices) # Captura las matrices que crea la funcion Create_matrices\n",
    "                for i, matrix in enumerate(matrices): # Imprime las matrices \n",
    "                    print(f\"Matriz {i+1}:\") \n",
    "                    self.print_matrix(matrix)\n",
    "    \n",
    "                if all(matrix.shape == matrices[0].shape for matrix in matrices):  # Para saber si las matrices son de la misma dimensión\n",
    "                    firstm = matrices[0]\n",
    "    \n",
    "                    for matrix in matrices[1:]:    # Resta las demas matrices a la primera: En realidad A-B = C y luego C-D = F y asi:\n",
    "                        result = firstm - matrix\n",
    "                    if num_matrices == 1:\n",
    "                        print(f\"Debes escoger un numero de matrices mayor a {num_matrices} para poder restarlas\")\n",
    "                    print(\"La resta de las matrices es:\\n\", result)\n",
    "                else:\n",
    "                    print(\"Error: Todas las matrices deben ser de la misma dimension para restarlas\" )\n",
    "                break\n",
    "            except ValueError as ve:\n",
    "                print(ve)\n",
    "            except Exception as e:\n",
    "                print(f\"Error Inesperado: {e}\")\n",
    "\n",
    "    # multiplicación por un escalar\n",
    "    def scalar_multiplication(self):\n",
    "         while True:\n",
    "            try:\n",
    "                scalar = float(input(\"Ingrese el escalar:\"))\n",
    "                num_matrices = 1\n",
    "                matrices = self.Create_matrices(num_matrices)\n",
    "        \n",
    "                if scalar == 0:\n",
    "                    mult = np.zeros(shape=(m, n), dtype=int)\n",
    "                else:\n",
    "                    mult = scalar*matrices[0]\n",
    "                print(f\"El producto entre el escalar {scalar} y la matriz\\n {matrices[0]} es:\\n {self.print_matrix(mult)}\")\n",
    "                break\n",
    "            except ValueError as ve:\n",
    "                print(ve)\n",
    "            except Exception as e:\n",
    "                print(f\"Error Inesperado: {e}\")\n",
    "    # multiplicacion de matrices\n",
    "    def multiplication_matrices(self):\n",
    "        while True:\n",
    "            try:\n",
    "                num_matrices = int(input(\"Cuantas matrices desea multiplicar:\"))\n",
    "                self.Create_matrices(num_matrices)\n",
    "                break\n",
    "            except ValueError as ve:\n",
    "                print(ve)\n",
    "            except Exception as e:\n",
    "                print(f\"Error Inesperado: {e}\")\n",
    "\n",
    "    def print_matrix(self, matrix):\n",
    "        for row in matrix:\n",
    "            print(\" \".join(str(element) for element in row))\n",
    "        print() \n",
    "    \n",
    "\n",
    "print(\"-----------------------------------------------------\")\n",
    "print(\"############## CALCULADORA DE MATRICES ##############\")\n",
    "print(\"-----------------------------------------------------\")\n",
    "print(\"\\nMENU\")\n",
    "print(\"\"\"Opción 1: Suma de Matrices\n",
    "Opción 2: Resta de Matrices\n",
    "Opción 3: Multiplicación de una matriz por un escalar\n",
    "Opción 4: Multiplicación de Matrices\"\"\")\n",
    "while True:\n",
    "    try:\n",
    "        RN = Real_Numbers()\n",
    "        option = int(input(\"Ingrese el numero de la opción que desea ejecutar:\"))\n",
    "        if option == 1:\n",
    "            RN.addition_matrices()\n",
    "        elif option == 2:\n",
    "            RN.substraction_matrices()\n",
    "        elif option == 3:\n",
    "            RN.scalar_multiplication()\n",
    "        elif option == 4:\n",
    "            RN.multiplication_matrices()\n",
    "        break\n",
    "    except ValueError as ve:\n",
    "        print(ve)\n",
    "    except Exception as e:\n",
    "        print(f\"Error Inesperado: {e}\")\n",
    "\n",
    "# Toca arreglar el codigo para que se le pueda ingresar y responder con fracciones en las matrices. \n",
    "# Buscar la forma de alinear las matrices de respuesta\n",
    "# Realizar las demas funciones\n"
   ]
  },
  {
   "cell_type": "code",
   "execution_count": 17,
   "id": "d983ec38-e33e-415b-9ba9-4594a28d2366",
   "metadata": {},
   "outputs": [
    {
     "name": "stdout",
     "output_type": "stream",
     "text": [
      "[[0 0]\n",
      " [0 0]]\n"
     ]
    }
   ],
   "source": [
    "import numpy as np\n",
    "ar = np.array([[2,3],[3,4]])\n",
    "scalar = 0\n",
    "result = np.zeros(shape=(2,2), dtype=int)\n",
    "print(result)\n"
   ]
  },
  {
   "cell_type": "code",
   "execution_count": null,
   "id": "7c6a8cdf-3a1e-4e27-94aa-06a822230008",
   "metadata": {},
   "outputs": [],
   "source": []
  },
  {
   "cell_type": "code",
   "execution_count": null,
   "id": "e1e7a679-6549-42d8-86e0-1e579788cb74",
   "metadata": {},
   "outputs": [],
   "source": []
  }
 ],
 "metadata": {
  "kernelspec": {
   "display_name": "Python 3 (ipykernel)",
   "language": "python",
   "name": "python3"
  },
  "language_info": {
   "codemirror_mode": {
    "name": "ipython",
    "version": 3
   },
   "file_extension": ".py",
   "mimetype": "text/x-python",
   "name": "python",
   "nbconvert_exporter": "python",
   "pygments_lexer": "ipython3",
   "version": "3.12.4"
  }
 },
 "nbformat": 4,
 "nbformat_minor": 5
}
