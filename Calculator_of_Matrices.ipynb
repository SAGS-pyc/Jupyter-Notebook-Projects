{
 "cells": [
  {
   "cell_type": "markdown",
   "id": "5df9c3d9-6c8f-4a7e-8a31-0410720bf7c3",
   "metadata": {},
   "source": [
    "# Calculator of Matrices | Calculadora de Matrices"
   ]
  },
  {
   "cell_type": "markdown",
   "id": "25a8ef74-aea1-48a3-93e3-74fc6eb7ed75",
   "metadata": {},
   "source": [
    "### Welcome to the matrix calculator | Bienvenido a la calculadora de matrices"
   ]
  },
  {
   "cell_type": "markdown",
   "id": "0b861f5d-a138-4f18-81a6-f51b2c9f12ea",
   "metadata": {},
   "source": [
    "#### Project Objective | Objetivo del Proyecto"
   ]
  },
  {
   "cell_type": "markdown",
   "id": "a86e04a8-59a3-4485-8624-c0b38e607b34",
   "metadata": {},
   "source": [
    "\"To develop a matrix calculator capable of performing all fundamental and advanced linear algebra operations, providing an accessible and efficient tool for students, teachers and researchers. The calculator will allow to perform operations such as addition, subtraction, multiplication, determinants, inverses, transpositions, decompositions and other matrix transformations. In addition, it will facilitate the understanding and solution of mathematical problems related to systems of linear equations, vector spaces and applications in various scientific and technological areas.\"\n",
    "\n",
    "##### Focus\n",
    "\n",
    "1. **Educational**: Help students and teachers visualize and understand matrix operations.\n",
    "2. **Research**: Serve as a support tool in solving complex problems in mathematical, physics, and engineering research.\n",
    "3. **Efficiency and Usability**: Provide an intuitive interface so that any user can easily perform linear algebra operations.\n",
    "________________________________________________________________________________________________________________________________________________________\n",
    "\n",
    "\"Desarrollar una calculadora de matrices capaz de realizar todas las operaciones fundamentales y avanzadas de álgebra lineal, proporcionando una herramienta accesible y eficiente para estudiantes, profesores e investigadores. La calculadora permitirá ejecutar operaciones como suma, resta, multiplicación, determinantes, inversas, transpuestas, descomposiciones y otras transformaciones matrices. Además, facilitará la comprensión y solución de problemas matemáticos relacionados con sistemas de ecuaciones lineales, espacios vectoriales y aplicaciones en diversas áreas científicas y tecnológicas.\"\n",
    "\n",
    "##### Enfoque\n",
    "\n",
    "1. **Educativo**: Ayudar a estudiantes y profesores a visualizar y comprender las operaciones matriciales.\n",
    "2. **Investigación**: Servir como herramienta de apoyo en la resolución de problemas complejos en investigación matemática, física e ingeniería.\n",
    "3. **Eficiencia y Usabilidad**: Proporcionar una interfaz intuitiva para que cualquier usuario pueda ejecutar fácilmente operaciones de álgebra lineal."
   ]
  },
  {
   "cell_type": "markdown",
   "id": "62e68abc-c9d5-42cd-baf5-58aa8747aa53",
   "metadata": {},
   "source": [
    "**Source** | **Fuente**: Algebra Linear Stanley I. Grossman "
   ]
  },
  {
   "cell_type": "markdown",
   "id": "2979d5cf-3e20-498a-8ec3-8346cb3afb97",
   "metadata": {},
   "source": [
    "#### Instruction Manual | Manual de instrucciones"
   ]
  },
  {
   "cell_type": "markdown",
   "id": "b93664e5-c238-4a5f-a647-e962c03487f5",
   "metadata": {},
   "source": [
    "1. **Conceptos Básicos de Álgebra Lineal**\n",
    "\n",
    "    Matriz: Los usuarios deben entender qué es una matriz y cómo se representan. Por ejemplo, saber que una matriz es una disposición rectangular de números, organizada en filas y columnas.\n",
    "    Dimensiones de las matrices: Conocer que las dimensiones de una matriz se expresan como \"m x n\" (filas x columnas) y cómo afecta a las operaciones.\n",
    "    Tipos de matrices: Matrices cuadradas, identidad, transpuestas, inversas, etc., y sus propiedades.\n",
    "\n",
    "2. **Operaciones Disponibles en la Calculadora**\n",
    "\n",
    "    Operaciones Básicas: Suma, resta y multiplicación de matrices.\n",
    "    Operaciones Avanzadas: Determinante. Matriz inversa. Producto escalar. Descomposiciones (LU, QR, etc.). Resolución de sistemas de ecuaciones lineales. Multiplicación por un escalar. Transformaciones: Matriz transpuesta, reducción a formas escalonadas, etc.\n",
    "\n",
    "4. **Restricciones de las Operaciones**\n",
    "\n",
    "    Compatibilidad de dimensiones: Para algunas operaciones como la multiplicación de matrices, los usuarios deben asegurarse de que el número de columnas de la primera matriz coincida con el número de filas de la segunda.\n",
    "    Determinantes y matrices inversas: Solo se pueden calcular para matrices cuadradas.\n",
    "\n",
    "6. **Cómo Ingresar las Matrices**\n",
    "\n",
    "    Los usuarios deben saber cómo ingresar matrices en la calculadora, ya sea a través de una interfaz gráfica o directamente desde el teclado.\n",
    "    Formato de entrada: Si la entrada es manual, explicar cómo se ingresan las filas y columnas, y cómo separar los elementos (por ejemplo, con espacios y saltos de línea).\n",
    "\n",
    "7. **Funcionalidades Adicionales**\n",
    "\n",
    "    Guardar resultados: Si la calculadora permite guardar matrices o resultados, los usuarios deben saber cómo utilizar esta funcionalidad.\n",
    "    Exportar e importar datos: Explicar cómo pueden importar matrices desde un archivo o exportar los resultados a otros formatos si está disponible.\n",
    "\n",
    "8. **Interfaz y Navegación**\n",
    "\n",
    "    Explicar cómo moverse por la interfaz (gráfica o de consola), incluyendo los menús disponibles para cada operación.\n",
    "    Si la calculadora es interactiva, proporcionar instrucciones claras sobre cómo seleccionar las operaciones y visualizar los resultados.\n",
    "\n",
    "9. **Errores Comunes**\n",
    "\n",
    "    Errores de dimensiones: Qué hacer si las matrices no son compatibles para una operación.\n",
    "    Singularidad: Si intentan calcular la inversa de una matriz no invertible (matriz singular).\n",
    "    Mensajes de advertencia: Explicar qué significan los mensajes de error y cómo corregirlos."
   ]
  },
  {
   "cell_type": "code",
   "execution_count": 39,
   "id": "916dd4c0-ab13-4519-984e-92ad8e588e85",
   "metadata": {},
   "outputs": [
    {
     "data": {
      "text/plain": [
       "'Ingresar las ecuaciones como numeros separados por espacios (se espera mejorar la entrada) se entiende que el ultimo numero es lo que va\\ndespues del igual, matriz mxn cuadradas o no\\nEs importante marcar que para esta calculadora la forma de las ecuaciones es x, y, z -- forma:  x + y + z = r  , en lista [x, y, z, r] , en matriz\\naumentada:\\n[x1, y1, z1, r1]      al principio solo probemos matrices cuadradas hasta la 3ra dimensión.\\n[x2, y2, z2, r2]\\n[x3, y3, z3, r3]\\n\\nTener en cuenta la notacion matricial y posicion de los elmentos:\\nLas columnas filas son i las columnas j\\nAsub(i,j); ej: A11, Elemento en la fila 1 y la columna 1\\n             j \\n   [a11, a12, a13, a14]      \\n i [a21, a22, a23, a24]\\n   [a31, a32, a33, a34]...\\n         .\\n         .\\n         .'"
      ]
     },
     "execution_count": 39,
     "metadata": {},
     "output_type": "execute_result"
    }
   ],
   "source": [
    "\n",
    "'''Ingresar las ecuaciones como numeros separados por espacios (se espera mejorar la entrada) se entiende que el ultimo numero es lo que va\n",
    "despues del igual, matriz mxn cuadradas o no\n",
    "Es importante marcar que para esta calculadora la forma de las ecuaciones es x, y, z -- forma:  x + y + z = r  , en lista [x, y, z, r] , en matriz\n",
    "aumentada:\n",
    "[x1, y1, z1, r1]      al principio solo probemos matrices cuadradas hasta la 3ra dimensión.\n",
    "[x2, y2, z2, r2]\n",
    "[x3, y3, z3, r3]\n",
    "\n",
    "Tener en cuenta la notacion matricial y posicion de los elmentos:\n",
    "Las columnas filas son i las columnas j\n",
    "Asub(i,j); ej: A11, Elemento en la fila 1 y la columna 1\n",
    "             j \n",
    "   [a11, a12, a13, a14]      \n",
    " i [a21, a22, a23, a24]\n",
    "   [a31, a32, a33, a34]...\n",
    "         .\n",
    "         .\n",
    "         .'''\n",
    "# En dada caso que el coeficiente sea una fraccion coloca el valor en decimales. "
   ]
  },
  {
   "cell_type": "markdown",
   "id": "08fed716-5558-4408-98ec-7956947b8eeb",
   "metadata": {},
   "source": []
  },
  {
   "cell_type": "markdown",
   "id": "3635d9b1-36e6-420a-87b5-f7103efba0ce",
   "metadata": {},
   "source": [
    "### Code / Codigo\n",
    "\n",
    "##### Instrucciones de uso y exepciones\n"
   ]
  },
  {
   "cell_type": "code",
   "execution_count": 6,
   "id": "9d27612d-c16d-4561-af41-851c4328a890",
   "metadata": {},
   "outputs": [
    {
     "name": "stdout",
     "output_type": "stream",
     "text": [
      "-----------------------------------------------------\n",
      "############## CALCULADORA DE MATRICES ##############\n",
      "-----------------------------------------------------\n",
      "\n",
      "MENU\n",
      "Opción 1: Suma de Matrices\n",
      "Opción 2: Resta de Matrices\n",
      "Opción 3: Multiplicación de una matriz por un escalar\n",
      "Opción 4: Multiplicación de Matrices\n"
     ]
    },
    {
     "name": "stdin",
     "output_type": "stream",
     "text": [
      "Ingrese el numero de la opción que desea ejecutar: 1\n",
      "Cuantas matrices desea sumar: 2\n"
     ]
    },
    {
     "name": "stdout",
     "output_type": "stream",
     "text": [
      "Dimensiones de la matriz 1:\n"
     ]
    },
    {
     "name": "stdin",
     "output_type": "stream",
     "text": [
      "Ingresa el número de filas y columnas separadas por un espacio:  2 2\n"
     ]
    },
    {
     "name": "stdout",
     "output_type": "stream",
     "text": [
      "Número de filas: 2. Número de columnas: 2\n"
     ]
    },
    {
     "name": "stdin",
     "output_type": "stream",
     "text": [
      "Ingrese los 2 coeficientes de la fila 1, separados por un espacio: 3 4\n",
      "Ingrese los 2 coeficientes de la fila 2, separados por un espacio: 4 5\n"
     ]
    },
    {
     "name": "stdout",
     "output_type": "stream",
     "text": [
      "Dimensiones de la matriz 2:\n"
     ]
    },
    {
     "name": "stdin",
     "output_type": "stream",
     "text": [
      "Ingresa el número de filas y columnas separadas por un espacio:  2 2 \n"
     ]
    },
    {
     "name": "stdout",
     "output_type": "stream",
     "text": [
      "Número de filas: 2. Número de columnas: 2\n"
     ]
    },
    {
     "name": "stdin",
     "output_type": "stream",
     "text": [
      "Ingrese los 2 coeficientes de la fila 1, separados por un espacio: 5 6\n",
      "Ingrese los 2 coeficientes de la fila 2, separados por un espacio: 6 7\n"
     ]
    },
    {
     "name": "stdout",
     "output_type": "stream",
     "text": [
      "Matriz 1:\n",
      "3 4\n",
      "4 5\n",
      "\n",
      "Matriz 2:\n",
      "5 6\n",
      "6 7\n",
      "\n",
      "La suma de las matrices es:\n",
      " [[Fraction(8, 1) Fraction(10, 1)]\n",
      " [Fraction(10, 1) Fraction(12, 1)]]\n"
     ]
    },
    {
     "data": {
      "text/plain": [
       "'Hello Github'"
      ]
     },
     "execution_count": 6,
     "metadata": {},
     "output_type": "execute_result"
    }
   ],
   "source": [
    "import numpy as np\n",
    "from fractions import Fraction\n",
    "class Real_Numbers: # Calculadura para el conjunto R**n o R**nxm\n",
    "    def Create_matrices(self, n_matrix):\n",
    "        matrices = []\n",
    "        # Cuantas matrices desea crear\n",
    "        for _ in range(n_matrix):\n",
    "            # m son filas y n son columnas \n",
    "            while True:\n",
    "                try:\n",
    "                    print(f\"Dimensiones de la matriz {_+1}:\")\n",
    "                    global m, n\n",
    "                    m, n = map(int, input(\"Ingresa el número de filas y columnas separadas por un espacio: \").split())\n",
    "                    if m <= 0 or n <= 0 :\n",
    "                        raise ValueError(\"Error: Estas creando una matriz vacia, ingresa valores mayores que 0\")\n",
    "                    break\n",
    "                except ValueError as ve:\n",
    "                    print(ve)\n",
    "                except Exception as e:\n",
    "                    print(f\"Error Inesperado: {e}\")\n",
    "            print(f\"Número de filas: {m}. Número de columnas: {n}\")\n",
    "            \n",
    "            while True:\n",
    "                try:\n",
    "                    line = []      # Creacion de las matrices\n",
    "                    for i in range(m):\n",
    "                        equa = [Fraction(x) for x in input(f\"Ingrese los {n} coeficientes de la fila {i+1}, separados por un espacio:\").split()]\n",
    "                        if len(equa) != n:\n",
    "                            raise ValueError(f\"Error: Debes ingresar exactamente {n} coeficientes.\")\n",
    "                        line.append(equa)\n",
    "                    system = np.array(line, dtype=object)\n",
    "                    break\n",
    "                except ValueError as ve:\n",
    "                    print(ve)\n",
    "                except Exception as e:\n",
    "                    print(f\"Error Inesperado: {e}\")\n",
    "            matrices.append(system)\n",
    "        return matrices\n",
    "        \n",
    "    # Suma de matrices\n",
    "    def addition_matrices(self):\n",
    "        while True:\n",
    "            try:\n",
    "                num_matrices = int(input(\"Cuantas matrices desea sumar:\"))\n",
    "                matrices = self.Create_matrices(num_matrices) # Captura las matrices que crea la funcion Create_matrices\n",
    "                for i, matrix in enumerate(matrices): # Imprime las matrices \n",
    "                    print(f\"Matriz {i+1}:\") \n",
    "                    self.print_matrix(matrix)\n",
    "    \n",
    "                if all(matrix.shape == matrices[0].shape for matrix in matrices):  # Para saber si las matrices son de la misma dimensión\n",
    "                    result = sum(matrices)\n",
    "                    print(\"La suma de las matrices es:\\n\", result)\n",
    "                else:\n",
    "                    print(\"Error: Todas las matrices deben ser de la misma dimension para sumarlas\" )\n",
    "                break\n",
    "            except ValueError as ve:\n",
    "                print(ve)\n",
    "            except Exception as e:\n",
    "                print(f\"Error Inesperado: {e}\")\n",
    "    # resta de matrices\n",
    "    def substraction_matrices(self):\n",
    "        while True:\n",
    "            try:\n",
    "                num_matrices = int(input(\"Cuantas matrices desea restar:\"))\n",
    "                matrices = self.Create_matrices(num_matrices) # Captura las matrices que crea la funcion Create_matrices\n",
    "                for i, matrix in enumerate(matrices): # Imprime las matrices \n",
    "                    print(f\"Matriz {i+1}:\") \n",
    "                    self.print_matrix(matrix)\n",
    "    \n",
    "                if all(matrix.shape == matrices[0].shape for matrix in matrices):  # Para saber si las matrices son de la misma dimensión\n",
    "                    firstm = matrices[0]\n",
    "    \n",
    "                    for matrix in matrices[1:]:    # Resta las demas matrices a la primera: En realidad A-B = C y luego C-D = F y asi:\n",
    "                        result = firstm - matrix\n",
    "                    if num_matrices == 1:\n",
    "                        print(f\"Debes escoger un numero de matrices mayor a {num_matrices} para poder restarlas\")\n",
    "                    print(\"La resta de las matrices es:\\n\", result)\n",
    "                else:\n",
    "                    print(\"Error: Todas las matrices deben ser de la misma dimension para restarlas\" )\n",
    "                break\n",
    "            except ValueError as ve:\n",
    "                print(ve)\n",
    "            except Exception as e:\n",
    "                print(f\"Error Inesperado: {e}\")\n",
    "\n",
    "    # multiplicación por un escalar\n",
    "    def scalar_multiplication(self):\n",
    "         while True:\n",
    "            try:\n",
    "                scalar = float(input(\"Ingrese el escalar:\"))\n",
    "                num_matrices = 1\n",
    "                matrices = self.Create_matrices(num_matrices)\n",
    "        \n",
    "                if scalar == 0:\n",
    "                    mult = np.zeros(shape=(m, n), dtype=int)\n",
    "                else:\n",
    "                    mult = scalar*matrices[0]\n",
    "                print(f\"El producto entre el escalar {scalar} y la matriz\\n {matrices[0]} es:\\n {self.print_matrix(mult)}\")\n",
    "                break\n",
    "            except ValueError as ve:\n",
    "                print(ve)\n",
    "            except Exception as e:\n",
    "                print(f\"Error Inesperado: {e}\")\n",
    "    # multiplicacion de matrices\n",
    "    def multiplication_matrices(self):\n",
    "        while True:\n",
    "            try:\n",
    "                num_matrices = int(input(\"Cuantas matrices desea multiplicar:\"))\n",
    "                self.Create_matrices(num_matrices)\n",
    "                break\n",
    "            except ValueError as ve:\n",
    "                print(ve)\n",
    "            except Exception as e:\n",
    "                print(f\"Error Inesperado: {e}\")\n",
    "\n",
    "    def print_matrix(self, matrix):\n",
    "        for row in matrix:\n",
    "            print(\" \".join(str(element) for element in row))\n",
    "        print() \n",
    "    \n",
    "\n",
    "print(\"-----------------------------------------------------\")\n",
    "print(\"############## CALCULADORA DE MATRICES ##############\")\n",
    "print(\"-----------------------------------------------------\")\n",
    "print(\"\\nMENU\")\n",
    "print(\"\"\"Opción 1: Suma de Matrices\n",
    "Opción 2: Resta de Matrices\n",
    "Opción 3: Multiplicación de una matriz por un escalar\n",
    "Opción 4: Multiplicación de Matrices\"\"\")\n",
    "while True:\n",
    "    try:\n",
    "        RN = Real_Numbers()\n",
    "        option = int(input(\"Ingrese el numero de la opción que desea ejecutar:\"))\n",
    "        if option == 1:\n",
    "            RN.addition_matrices()\n",
    "        elif option == 2:\n",
    "            RN.substraction_matrices()\n",
    "        elif option == 3:\n",
    "            RN.scalar_multiplication()\n",
    "        elif option == 4:\n",
    "            RN.multiplication_matrices()\n",
    "        break\n",
    "    except ValueError as ve:\n",
    "        print(ve)\n",
    "    except Exception as e:\n",
    "        print(f\"Error Inesperado: {e}\")\n",
    "\n",
    "# Toca arreglar el codigo para que se le pueda ingresar y responder con fracciones en las matrices. \n",
    "# Buscar la forma de alinear las matrices de respuesta\n",
    "# Realizar las demas funciones\n",
    "\"\"\"Hello Github\"\"\""
   ]
  },
  {
   "cell_type": "code",
   "execution_count": 17,
   "id": "d983ec38-e33e-415b-9ba9-4594a28d2366",
   "metadata": {},
   "outputs": [
    {
     "name": "stdout",
     "output_type": "stream",
     "text": [
      "[[0 0]\n",
      " [0 0]]\n"
     ]
    }
   ],
   "source": [
    "import numpy as np\n",
    "ar = np.array([[2,3],[3,4]])\n",
    "scalar = 0\n",
    "result = np.zeros(shape=(2,2), dtype=int)\n",
    "print(result)\n"
   ]
  },
  {
   "cell_type": "code",
   "execution_count": null,
   "id": "7c6a8cdf-3a1e-4e27-94aa-06a822230008",
   "metadata": {},
   "outputs": [],
   "source": []
  },
  {
   "cell_type": "code",
   "execution_count": null,
   "id": "e1e7a679-6549-42d8-86e0-1e579788cb74",
   "metadata": {},
   "outputs": [],
   "source": []
  }
 ],
 "metadata": {
  "kernelspec": {
   "display_name": "Python 3 (ipykernel)",
   "language": "python",
   "name": "python3"
  },
  "language_info": {
   "codemirror_mode": {
    "name": "ipython",
    "version": 3
   },
   "file_extension": ".py",
   "mimetype": "text/x-python",
   "name": "python",
   "nbconvert_exporter": "python",
   "pygments_lexer": "ipython3",
   "version": "3.12.4"
  }
 },
 "nbformat": 4,
 "nbformat_minor": 5
}
